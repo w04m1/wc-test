{
 "cells": [
  {
   "cell_type": "code",
   "execution_count": 1,
   "id": "7bc16b80-733a-4d55-a9ab-9c02e621d332",
   "metadata": {},
   "outputs": [],
   "source": [
    "import pandas as pd\n",
    "df = pd.read_csv(\"data/hackernews_7days.csv\")"
   ]
  },
  {
   "cell_type": "code",
   "execution_count": 2,
   "id": "b6707d5c-9eb6-4291-998c-a60602db304b",
   "metadata": {},
   "outputs": [],
   "source": [
    "\n",
    "keywords = [\n",
    "    \"ai\", \"ml\", \"nlp\", \"llm\", \"rag\", \"transformer\", \"tokenization\", \"embedding\",\n",
    "    \"pretraining\", \"fine-tuning\", \"self-attention\", \"prompting\", \"zero-shot\", \"few-shot\",\n",
    "    \"reinforcement\", \"vectordb\", \"chunking\", \"query\", \"hybrid retrieval\", \"fusion-in-decoder\",\n",
    "    \"agent\", \"fid\", \"ethics\", \"bias\", \"hallucination\", \"rlhf\", \"mixture of experts\",\n",
    "    \"autonomous\", \"synthetic data\", \"inference\", \"model compression\", \"perplexity\", \"chatbot\",\n",
    "    \"generative ai\", \"deep learning\", \"supervised\", \"unsupervised\", \"validation\", \"whisper\",\n",
    "    \"t5\", \"gpt\", \"bert\", \"slm\", \"openai\", \"langchain\", \"llamaindex\", \"faiss\", \"pinecone\",\n",
    "    \"chroma\", \"quantization\", \"summarization\", \"alignment\"\n",
    "]"
   ]
  },
  {
   "cell_type": "markdown",
   "id": "59c62f13",
   "metadata": {},
   "source": [
    "# Task 1\n",
    "\n",
    "## I'm not sure if it's the best approach, the length of keywords could be longer, also could use NLP to recognize entities instead of just regex searching"
   ]
  },
  {
   "cell_type": "code",
   "execution_count": 3,
   "id": "1abaa5e1-379b-45fd-9eda-ded2d295b41b",
   "metadata": {},
   "outputs": [
    {
     "name": "stdout",
     "output_type": "stream",
     "text": [
      "                                               title\n",
      "4  A newsletter that mines the internet's complai...\n",
      "5  Deep learning framework built from the ground ...\n",
      "8        China has found US pain point – rare earths\n",
      "Number of matching rows: 3\n"
     ]
    }
   ],
   "source": [
    "df['title_lower'] = df['title'].str.lower()\n",
    "\n",
    "pattern = '|'.join(map(lambda x: x.replace('-', '\\\\-'), keywords))\n",
    "\n",
    "filtered_df = df[df['title_lower'].str.contains(pattern, regex=True)]\n",
    "\n",
    "num_rows = filtered_df.shape[0]\n",
    "print(filtered_df[['title']])\n",
    "print(f\"Number of matching rows: {num_rows}\")"
   ]
  }
 ],
 "metadata": {
  "kernelspec": {
   "display_name": "white-circle (3.12.9)",
   "language": "python",
   "name": "python3"
  },
  "language_info": {
   "codemirror_mode": {
    "name": "ipython",
    "version": 3
   },
   "file_extension": ".py",
   "mimetype": "text/x-python",
   "name": "python",
   "nbconvert_exporter": "python",
   "pygments_lexer": "ipython3",
   "version": "3.12.9"
  }
 },
 "nbformat": 4,
 "nbformat_minor": 5
}
